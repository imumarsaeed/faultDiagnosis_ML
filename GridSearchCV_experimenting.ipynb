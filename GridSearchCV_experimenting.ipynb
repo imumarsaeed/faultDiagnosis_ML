{
 "cells": [
  {
   "cell_type": "code",
   "execution_count": 29,
   "metadata": {},
   "outputs": [],
   "source": [
    "import os\n",
    "import time\n",
    "import pandas as pd\n",
    "import numpy as np\n",
    "\n",
    "from sklearn.model_selection import GridSearchCV\n",
    "\n",
    "from sklearn import svm\n",
    "from sklearn.ensemble import ExtraTreesClassifier\n",
    "from sklearn.linear_model import LogisticRegression"
   ]
  },
  {
   "cell_type": "code",
   "execution_count": 30,
   "metadata": {},
   "outputs": [],
   "source": [
    "trainingData = pd.read_excel(r\"C:\\Users\\MCSL-user\\Pictures\\0.2_constant_FaultDiagnosis_multihop_indoor_dataset.xlsx\",\n",
    "                            sheet_name='trainingData')\n",
    "\n",
    "\n",
    "testingData = pd.read_excel(r\"C:\\Users\\MCSL-user\\Pictures\\0.2_constant_FaultDiagnosis_multihop_indoor_dataset.xlsx\",\n",
    "                           sheet_name='testingData')\n",
    "\n",
    "\n",
    "x_train = trainingData[['1_T1','2_T2','3_H1','4_H2','5_T1','6_T2','7_H1','8_H2','9_T1','10_T2','11_H1','12_H2','13_T1','14_T2','15_H1','16_H2']]\n",
    "y_train = trainingData[['Label']]\n",
    "\n",
    "x_test = testingData[['1_T1','2_T2','3_H1','4_H2','5_T1','6_T2','7_H1','8_H2','9_T1','10_T2','11_H1','12_H2','13_T1','14_T2','15_H1','16_H2']]\n",
    "y_test = testingData[['Label']]"
   ]
  },
  {
   "cell_type": "code",
   "execution_count": 40,
   "metadata": {},
   "outputs": [],
   "source": [
    "model_params = {\n",
    "    'svm': {\n",
    "        'model': svm.SVC(gamma='auto'),\n",
    "        'params' : {\n",
    "            'C': [1],\n",
    "            'kernel': ['rbf','linear','poly']\n",
    "        }  \n",
    "    },\n",
    "    'extra_trees': {\n",
    "        'model': ExtraTreesClassifier(),\n",
    "        'params' : {\n",
    "            'n_estimators': [50,100,150,1000]\n",
    "        }\n",
    "    },\n",
    "}"
   ]
  },
  {
   "cell_type": "code",
   "execution_count": 41,
   "metadata": {},
   "outputs": [
    {
     "data": {
      "text/html": [
       "<div>\n",
       "<style scoped>\n",
       "    .dataframe tbody tr th:only-of-type {\n",
       "        vertical-align: middle;\n",
       "    }\n",
       "\n",
       "    .dataframe tbody tr th {\n",
       "        vertical-align: top;\n",
       "    }\n",
       "\n",
       "    .dataframe thead th {\n",
       "        text-align: right;\n",
       "    }\n",
       "</style>\n",
       "<table border=\"1\" class=\"dataframe\">\n",
       "  <thead>\n",
       "    <tr style=\"text-align: right;\">\n",
       "      <th></th>\n",
       "      <th>model</th>\n",
       "      <th>best_score</th>\n",
       "      <th>best_params</th>\n",
       "    </tr>\n",
       "  </thead>\n",
       "  <tbody>\n",
       "    <tr>\n",
       "      <th>0</th>\n",
       "      <td>svm</td>\n",
       "      <td>0.833750</td>\n",
       "      <td>{'C': 1, 'kernel': 'poly'}</td>\n",
       "    </tr>\n",
       "    <tr>\n",
       "      <th>1</th>\n",
       "      <td>extra_trees</td>\n",
       "      <td>0.736563</td>\n",
       "      <td>{'n_estimators': 1000}</td>\n",
       "    </tr>\n",
       "  </tbody>\n",
       "</table>\n",
       "</div>"
      ],
      "text/plain": [
       "         model  best_score                 best_params\n",
       "0          svm    0.833750  {'C': 1, 'kernel': 'poly'}\n",
       "1  extra_trees    0.736563      {'n_estimators': 1000}"
      ]
     },
     "execution_count": 41,
     "metadata": {},
     "output_type": "execute_result"
    }
   ],
   "source": [
    "scores = []\n",
    "\n",
    "for model_name, mp in model_params.items():\n",
    "    clf =  GridSearchCV(mp['model'], mp['params'], cv=5, return_train_score=False)\n",
    "    clf.fit(x_train, y_train.values.ravel())\n",
    "    scores.append({\n",
    "        'model': model_name,\n",
    "        'best_score': clf.best_score_,\n",
    "        'best_params': clf.best_params_\n",
    "    })\n",
    "    \n",
    "df = pd.DataFrame(scores,columns=['model','best_score','best_params'])\n",
    "df"
   ]
  },
  {
   "cell_type": "code",
   "execution_count": null,
   "metadata": {},
   "outputs": [],
   "source": []
  },
  {
   "cell_type": "code",
   "execution_count": null,
   "metadata": {},
   "outputs": [],
   "source": []
  }
 ],
 "metadata": {
  "kernelspec": {
   "display_name": "Python 3",
   "language": "python",
   "name": "python3"
  },
  "language_info": {
   "codemirror_mode": {
    "name": "ipython",
    "version": 3
   },
   "file_extension": ".py",
   "mimetype": "text/x-python",
   "name": "python",
   "nbconvert_exporter": "python",
   "pygments_lexer": "ipython3",
   "version": "3.7.1"
  }
 },
 "nbformat": 4,
 "nbformat_minor": 2
}
