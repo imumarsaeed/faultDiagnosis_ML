{
 "cells": [
  {
   "cell_type": "code",
   "execution_count": null,
   "metadata": {},
   "outputs": [],
   "source": [
    "import os\n",
    "import pandas as pd\n",
    "import numpy as np"
   ]
  },
  {
   "cell_type": "code",
   "execution_count": null,
   "metadata": {},
   "outputs": [],
   "source": [
    "xls = pd.ExcelFile(r\"C:\\Users\\MCSL-user\\Pictures\\0.4_constant_FaultDiagnosis_multihop_indoor_dataset.xlsx\")\n",
    "\n",
    "df = pd.read_excel(xls, 'generic_trainingData')"
   ]
  },
  {
   "cell_type": "code",
   "execution_count": null,
   "metadata": {},
   "outputs": [],
   "source": [
    "tempDay_trainingData = df[['1_T1','2_T2','5_T1','6_T2','9_T1','10_T2','13_T1','14_T2']]\n",
    "df_temp_day = tempDay_trainingData.iloc[np.r_[0:200, 400:600, 800:1000, 1200:1400]]\n",
    "temp_day = df_temp_day #temp at day (normal values)\n",
    "\n",
    "# # # # # # # # # #\n",
    "\n",
    "tempNight_trainingData = df[['1_T1','2_T2','5_T1','6_T2','9_T1','10_T2','13_T1','14_T2']]\n",
    "df_temp_night = tempNight_trainingData.iloc[np.r_[200:400, 600:800, 1000:1200, 1400:1600]]\n",
    "temp_night = df_temp_night.sub(10) #temp decreases at night\n",
    "\n",
    "# # # # # # # # # #\n",
    "\n",
    "td1 = temp_day.iloc[0:200]\n",
    "td2 = temp_night.iloc[0:200]\n",
    "td3 = temp_day.iloc[200:400]\n",
    "td4 = temp_night.iloc[200:400]\n",
    "td5 = temp_day.iloc[400:600]\n",
    "td6 = temp_night.iloc[400:600]\n",
    "td7 = temp_day.iloc[600:800]\n",
    "td8 = temp_night.iloc[600:800]\n",
    "\n",
    "\n",
    "df1 = pd.concat([td1, td2, td3, td4, td5, td6, td7, td8], axis=0)\n"
   ]
  },
  {
   "cell_type": "code",
   "execution_count": null,
   "metadata": {},
   "outputs": [],
   "source": [
    "humidDay_trainingData = df[['3_H1','4_H2','7_H1','8_H2','11_H1','12_H2','15_H1','16_H2']]\n",
    "df_humid_day = humidDay_trainingData.iloc[np.r_[0:200, 400:600, 800:1000, 1200:1400]]\n",
    "humid_day = df_humid_day #humid at day (normal values)\n",
    "\n",
    "# # # # # # # # # #\n",
    "\n",
    "humidNight_trainingData = df[['3_H1','4_H2','7_H1','8_H2','11_H1','12_H2','15_H1','16_H2']]\n",
    "df_humid_night = humidNight_trainingData.iloc[np.r_[200:400, 600:800, 1000:1200, 1400:1600]]\n",
    "humid_night = df_humid_night.add(20) #humid increases at night\n",
    "\n",
    "# # # # # # # # # #\n",
    "\n",
    "hd1 = humid_day.iloc[0:200]\n",
    "hd2 = humid_night.iloc[0:200]\n",
    "hd3 = humid_day.iloc[200:400]\n",
    "hd4 = humid_night.iloc[200:400]\n",
    "hd5 = humid_day.iloc[400:600]\n",
    "hd6 = humid_night.iloc[400:600]\n",
    "hd7 = humid_day.iloc[600:800]\n",
    "hd8 = humid_night.iloc[600:800]\n",
    "\n",
    "\n",
    "df2 = pd.concat([hd1, hd2, hd3, hd4, hd5, hd6, hd7, hd8], axis=0)\n"
   ]
  },
  {
   "cell_type": "code",
   "execution_count": null,
   "metadata": {},
   "outputs": [],
   "source": [
    "df_final = pd.concat([df1, df2], axis=1)\n",
    "df_finalized = df_final[['1_T1','2_T2','3_H1','4_H2','5_T1','6_T2','7_H1','8_H2','9_T1','10_T2','11_H1','12_H2','13_T1','14_T2','15_H1','16_H2']]"
   ]
  },
  {
   "cell_type": "code",
   "execution_count": null,
   "metadata": {},
   "outputs": [],
   "source": [
    "df_finalized.to_excel(r'C:\\Users\\MCSL-user\\Pictures\\training_Data.xlsx', sheet_name='training_Data')"
   ]
  },
  {
   "cell_type": "code",
   "execution_count": null,
   "metadata": {},
   "outputs": [],
   "source": []
  },
  {
   "cell_type": "code",
   "execution_count": null,
   "metadata": {},
   "outputs": [],
   "source": [
    "# # # # # # # # # # # # # # # # # # # # # # # # # # # # # # # # # # # # # # # # "
   ]
  },
  {
   "cell_type": "code",
   "execution_count": null,
   "metadata": {},
   "outputs": [],
   "source": []
  },
  {
   "cell_type": "code",
   "execution_count": null,
   "metadata": {},
   "outputs": [],
   "source": [
    "xls = pd.ExcelFile(r\"C:\\Users\\MCSL-user\\Pictures\\0.4_constant_FaultDiagnosis_multihop_indoor_dataset.xlsx\")\n",
    "\n",
    "df = pd.read_excel(xls, 'generic_testingData')"
   ]
  },
  {
   "cell_type": "code",
   "execution_count": null,
   "metadata": {},
   "outputs": [],
   "source": [
    "tempDay_testingData = df[['1_T1','2_T2','5_T1','6_T2','9_T1','10_T2','13_T1','14_T2']]\n",
    "df_temp_day = tempDay_testingData.iloc[np.r_[0:100, 200:300, 400:500, 600:700]]\n",
    "temp_day = df_temp_day #temp at day (normal values)\n",
    "\n",
    "# # # # # # # # # #\n",
    "\n",
    "tempNight_testingData = df[['1_T1','2_T2','5_T1','6_T2','9_T1','10_T2','13_T1','14_T2']]\n",
    "df_temp_night = tempNight_testingData.iloc[np.r_[100:200, 300:400, 500:600, 700:800]]\n",
    "temp_night = df_temp_night.sub(10) #temp decreases at night\n",
    "\n",
    "# # # # # # # # # #\n",
    "\n",
    "td1 = temp_day.iloc[0:100]\n",
    "td2 = temp_night.iloc[0:100]\n",
    "td3 = temp_day.iloc[100:200]\n",
    "td4 = temp_night.iloc[100:200]\n",
    "td5 = temp_day.iloc[200:300]\n",
    "td6 = temp_night.iloc[200:300]\n",
    "td7 = temp_day.iloc[300:400]\n",
    "td8 = temp_night.iloc[300:400]\n",
    "\n",
    "\n",
    "df1 = pd.concat([td1, td2, td3, td4, td5, td6, td7, td8], axis=0)\n"
   ]
  },
  {
   "cell_type": "code",
   "execution_count": null,
   "metadata": {},
   "outputs": [],
   "source": [
    "humidDay_testingData = df[['3_H1','4_H2','7_H1','8_H2','11_H1','12_H2','15_H1','16_H2']]\n",
    "df_humid_day = humidDay_testingData.iloc[np.r_[0:100, 200:300, 400:500, 600:700]]\n",
    "humid_day = df_humid_day #humid at day (normal values)\n",
    "\n",
    "# # # # # # # # # #\n",
    "\n",
    "humidNight_testingData = df[['3_H1','4_H2','7_H1','8_H2','11_H1','12_H2','15_H1','16_H2']]\n",
    "df_humid_night = humidNight_testingData.iloc[np.r_[100:200, 300:400, 500:600, 700:800]]\n",
    "humid_night = df_humid_night.add(20) #humid increases at night\n",
    "\n",
    "# # # # # # # # # #\n",
    "\n",
    "hd1 = humid_day.iloc[0:100]\n",
    "hd2 = humid_night.iloc[0:100]\n",
    "hd3 = humid_day.iloc[100:200]\n",
    "hd4 = humid_night.iloc[100:200]\n",
    "hd5 = humid_day.iloc[200:300]\n",
    "hd6 = humid_night.iloc[200:300]\n",
    "hd7 = humid_day.iloc[300:400]\n",
    "hd8 = humid_night.iloc[300:400]\n",
    "\n",
    "\n",
    "df2 = pd.concat([hd1, hd2, hd3, hd4, hd5, hd6, hd7, hd8], axis=0)"
   ]
  },
  {
   "cell_type": "code",
   "execution_count": null,
   "metadata": {},
   "outputs": [],
   "source": [
    "df_final = pd.concat([df1, df2], axis=1)\n",
    "df_finalized = df_final[['1_T1','2_T2','3_H1','4_H2','5_T1','6_T2','7_H1','8_H2','9_T1','10_T2','11_H1','12_H2','13_T1','14_T2','15_H1','16_H2']]"
   ]
  },
  {
   "cell_type": "code",
   "execution_count": null,
   "metadata": {},
   "outputs": [],
   "source": [
    "df_finalized.to_excel(r'C:\\Users\\MCSL-user\\Pictures\\testingData.xlsx', sheet_name='testingData')"
   ]
  },
  {
   "cell_type": "code",
   "execution_count": null,
   "metadata": {},
   "outputs": [],
   "source": []
  },
  {
   "cell_type": "code",
   "execution_count": null,
   "metadata": {},
   "outputs": [],
   "source": [
    "##### Rough Work #####"
   ]
  },
  {
   "cell_type": "code",
   "execution_count": null,
   "metadata": {},
   "outputs": [],
   "source": []
  }
 ],
 "metadata": {
  "kernelspec": {
   "display_name": "Python 3",
   "language": "python",
   "name": "python3"
  },
  "language_info": {
   "codemirror_mode": {
    "name": "ipython",
    "version": 3
   },
   "file_extension": ".py",
   "mimetype": "text/x-python",
   "name": "python",
   "nbconvert_exporter": "python",
   "pygments_lexer": "ipython3",
   "version": "3.7.1"
  }
 },
 "nbformat": 4,
 "nbformat_minor": 2
}
