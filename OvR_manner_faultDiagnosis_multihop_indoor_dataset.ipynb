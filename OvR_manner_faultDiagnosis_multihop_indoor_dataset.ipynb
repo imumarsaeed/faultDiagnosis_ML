{
 "cells": [
  {
   "cell_type": "code",
   "execution_count": 1,
   "metadata": {},
   "outputs": [],
   "source": [
    "import os\n",
    "import time\n",
    "import pandas as pd\n",
    "import numpy as np\n",
    "from sklearn.metrics import accuracy_score, classification_report, confusion_matrix\n",
    "import matplotlib.pyplot as plt\n",
    "%matplotlib inline\n",
    "import seaborn as sn"
   ]
  },
  {
   "cell_type": "code",
   "execution_count": 2,
   "metadata": {},
   "outputs": [],
   "source": [
    "# Importing training data - 3% - fault\n",
    "\n",
    "trainingData0 = pd.read_excel(r\"C:\\Users\\MCSL-user\\Videos\\1_constant_FaultDiagnosis_multihop_indoor_dataset.xlsx\",\n",
    "                  sheet_name='trainingData0')\n",
    "trainingData1 = pd.read_excel(r\"C:\\Users\\MCSL-user\\Videos\\1_constant_FaultDiagnosis_multihop_indoor_dataset.xlsx\",\n",
    "                  sheet_name='trainingData1')\n",
    "trainingData2 = pd.read_excel(r\"C:\\Users\\MCSL-user\\Videos\\1_constant_FaultDiagnosis_multihop_indoor_dataset.xlsx\",\n",
    "                  sheet_name='trainingData2')\n",
    "trainingData3 = pd.read_excel(r\"C:\\Users\\MCSL-user\\Videos\\1_constant_FaultDiagnosis_multihop_indoor_dataset.xlsx\",\n",
    "                  sheet_name='trainingData3')\n",
    "trainingData4 = pd.read_excel(r\"C:\\Users\\MCSL-user\\Videos\\1_constant_FaultDiagnosis_multihop_indoor_dataset.xlsx\",\n",
    "                  sheet_name='trainingData4')\n",
    "trainingData5 = pd.read_excel(r\"C:\\Users\\MCSL-user\\Videos\\1_constant_FaultDiagnosis_multihop_indoor_dataset.xlsx\",\n",
    "                  sheet_name='trainingData5')\n",
    "trainingData6 = pd.read_excel(r\"C:\\Users\\MCSL-user\\Videos\\1_constant_FaultDiagnosis_multihop_indoor_dataset.xlsx\",\n",
    "                  sheet_name='trainingData6')"
   ]
  },
  {
   "cell_type": "code",
   "execution_count": 3,
   "metadata": {},
   "outputs": [],
   "source": [
    "# Importing testing data\n",
    "\n",
    "testingData = pd.read_excel(r\"C:\\Users\\MCSL-user\\Videos\\1_constant_FaultDiagnosis_multihop_indoor_dataset.xlsx\",\n",
    "                  sheet_name='testingData')"
   ]
  },
  {
   "cell_type": "code",
   "execution_count": 4,
   "metadata": {},
   "outputs": [],
   "source": [
    "# Assigning train/test data\n",
    "\n",
    "x_train0 = trainingData0[['1_T1','2_T2','3_H1','4_H2','5_T1','6_T2','7_H1','8_H2','9_T1','10_T2','11_H1','12_H2','13_T1','14_T2','15_H1','16_H2']]\n",
    "y_train0 = trainingData0[['Label']]\n",
    "\n",
    "x_train1 = trainingData1[['1_T1','2_T2','3_H1','4_H2','5_T1','6_T2','7_H1','8_H2','9_T1','10_T2','11_H1','12_H2','13_T1','14_T2','15_H1','16_H2']]\n",
    "y_train1 = trainingData1[['Label']]\n",
    "\n",
    "x_train2 = trainingData2[['1_T1','2_T2','3_H1','4_H2','5_T1','6_T2','7_H1','8_H2','9_T1','10_T2','11_H1','12_H2','13_T1','14_T2','15_H1','16_H2']]\n",
    "y_train2 = trainingData2[['Label']]\n",
    "\n",
    "x_train3 = trainingData3[['1_T1','2_T2','3_H1','4_H2','5_T1','6_T2','7_H1','8_H2','9_T1','10_T2','11_H1','12_H2','13_T1','14_T2','15_H1','16_H2']]\n",
    "y_train3 = trainingData3[['Label']]\n",
    "\n",
    "x_train4 = trainingData4[['1_T1','2_T2','3_H1','4_H2','5_T1','6_T2','7_H1','8_H2','9_T1','10_T2','11_H1','12_H2','13_T1','14_T2','15_H1','16_H2']]\n",
    "y_train4 = trainingData4[['Label']]\n",
    "\n",
    "x_train5 = trainingData5[['1_T1','2_T2','3_H1','4_H2','5_T1','6_T2','7_H1','8_H2','9_T1','10_T2','11_H1','12_H2','13_T1','14_T2','15_H1','16_H2']]\n",
    "y_train5 = trainingData5[['Label']]\n",
    "\n",
    "x_train6 = trainingData6[['1_T1','2_T2','3_H1','4_H2','5_T1','6_T2','7_H1','8_H2','9_T1','10_T2','11_H1','12_H2','13_T1','14_T2','15_H1','16_H2']]\n",
    "y_train6 = trainingData6[['Label']]\n",
    "\n",
    "x_test = testingData[['1_T1','2_T2','3_H1','4_H2','5_T1','6_T2','7_H1','8_H2','9_T1','10_T2','11_H1','12_H2','13_T1','14_T2','15_H1','16_H2']]\n",
    "y_test = testingData[['Label']]"
   ]
  },
  {
   "cell_type": "code",
   "execution_count": 5,
   "metadata": {},
   "outputs": [],
   "source": [
    "# Extra Trees Classifier"
   ]
  },
  {
   "cell_type": "code",
   "execution_count": 6,
   "metadata": {},
   "outputs": [
    {
     "data": {
      "text/plain": [
       "ExtraTreesClassifier(bootstrap=False, class_weight=None, criterion='gini',\n",
       "                     max_depth=None, max_features='auto', max_leaf_nodes=None,\n",
       "                     min_impurity_decrease=0.0, min_impurity_split=None,\n",
       "                     min_samples_leaf=1, min_samples_split=2,\n",
       "                     min_weight_fraction_leaf=0.0, n_estimators=25, n_jobs=None,\n",
       "                     oob_score=False, random_state=20, verbose=0,\n",
       "                     warm_start=False)"
      ]
     },
     "execution_count": 6,
     "metadata": {},
     "output_type": "execute_result"
    }
   ],
   "source": [
    "from sklearn.ensemble import ExtraTreesClassifier\n",
    "\n",
    "n_estimators = 25\n",
    "\n",
    "et_clf0 = ExtraTreesClassifier(n_estimators, random_state=20)\n",
    "et_clf1 = ExtraTreesClassifier(n_estimators, random_state=20)\n",
    "et_clf2 = ExtraTreesClassifier(n_estimators, random_state=20)\n",
    "et_clf3 = ExtraTreesClassifier(n_estimators, random_state=20)\n",
    "et_clf4 = ExtraTreesClassifier(n_estimators, random_state=20)\n",
    "et_clf5 = ExtraTreesClassifier(n_estimators, random_state=20)\n",
    "et_clf6 = ExtraTreesClassifier(n_estimators, random_state=20)\n",
    "\n",
    "et_clf0.fit(x_train0, y_train0.values.ravel())\n",
    "et_clf1.fit(x_train1, y_train1.values.ravel())\n",
    "et_clf2.fit(x_train2, y_train2.values.ravel())\n",
    "et_clf3.fit(x_train3, y_train3.values.ravel())\n",
    "et_clf4.fit(x_train4, y_train4.values.ravel())\n",
    "et_clf5.fit(x_train5, y_train5.values.ravel())\n",
    "et_clf6.fit(x_train6, y_train6.values.ravel())"
   ]
  },
  {
   "cell_type": "code",
   "execution_count": 7,
   "metadata": {},
   "outputs": [
    {
     "data": {
      "text/html": [
       "<div>\n",
       "<style scoped>\n",
       "    .dataframe tbody tr th:only-of-type {\n",
       "        vertical-align: middle;\n",
       "    }\n",
       "\n",
       "    .dataframe tbody tr th {\n",
       "        vertical-align: top;\n",
       "    }\n",
       "\n",
       "    .dataframe thead th {\n",
       "        text-align: right;\n",
       "    }\n",
       "</style>\n",
       "<table border=\"1\" class=\"dataframe\">\n",
       "  <thead>\n",
       "    <tr style=\"text-align: right;\">\n",
       "      <th></th>\n",
       "      <th>0</th>\n",
       "      <th>1</th>\n",
       "      <th>2</th>\n",
       "      <th>3</th>\n",
       "      <th>4</th>\n",
       "      <th>5</th>\n",
       "      <th>6</th>\n",
       "      <th>Predicted</th>\n",
       "      <th>Original</th>\n",
       "    </tr>\n",
       "  </thead>\n",
       "  <tbody>\n",
       "    <tr>\n",
       "      <th>0</th>\n",
       "      <td>1.0</td>\n",
       "      <td>0.0</td>\n",
       "      <td>0.0</td>\n",
       "      <td>0.0</td>\n",
       "      <td>0.00</td>\n",
       "      <td>0.0</td>\n",
       "      <td>0.0</td>\n",
       "      <td>0</td>\n",
       "      <td>0</td>\n",
       "    </tr>\n",
       "    <tr>\n",
       "      <th>1</th>\n",
       "      <td>1.0</td>\n",
       "      <td>0.0</td>\n",
       "      <td>0.0</td>\n",
       "      <td>0.0</td>\n",
       "      <td>0.00</td>\n",
       "      <td>0.0</td>\n",
       "      <td>0.0</td>\n",
       "      <td>0</td>\n",
       "      <td>0</td>\n",
       "    </tr>\n",
       "    <tr>\n",
       "      <th>2</th>\n",
       "      <td>1.0</td>\n",
       "      <td>0.0</td>\n",
       "      <td>0.0</td>\n",
       "      <td>0.0</td>\n",
       "      <td>0.04</td>\n",
       "      <td>0.0</td>\n",
       "      <td>0.0</td>\n",
       "      <td>0</td>\n",
       "      <td>0</td>\n",
       "    </tr>\n",
       "    <tr>\n",
       "      <th>3</th>\n",
       "      <td>1.0</td>\n",
       "      <td>0.0</td>\n",
       "      <td>0.0</td>\n",
       "      <td>0.0</td>\n",
       "      <td>0.04</td>\n",
       "      <td>0.0</td>\n",
       "      <td>0.0</td>\n",
       "      <td>0</td>\n",
       "      <td>0</td>\n",
       "    </tr>\n",
       "    <tr>\n",
       "      <th>4</th>\n",
       "      <td>1.0</td>\n",
       "      <td>0.0</td>\n",
       "      <td>0.0</td>\n",
       "      <td>0.0</td>\n",
       "      <td>0.00</td>\n",
       "      <td>0.0</td>\n",
       "      <td>0.0</td>\n",
       "      <td>0</td>\n",
       "      <td>0</td>\n",
       "    </tr>\n",
       "  </tbody>\n",
       "</table>\n",
       "</div>"
      ],
      "text/plain": [
       "     0    1    2    3     4    5    6 Predicted  Original\n",
       "0  1.0  0.0  0.0  0.0  0.00  0.0  0.0         0         0\n",
       "1  1.0  0.0  0.0  0.0  0.00  0.0  0.0         0         0\n",
       "2  1.0  0.0  0.0  0.0  0.04  0.0  0.0         0         0\n",
       "3  1.0  0.0  0.0  0.0  0.04  0.0  0.0         0         0\n",
       "4  1.0  0.0  0.0  0.0  0.00  0.0  0.0         0         0"
      ]
     },
     "execution_count": 7,
     "metadata": {},
     "output_type": "execute_result"
    }
   ],
   "source": [
    "# Extra Trees Classifier\n",
    "\n",
    "et_clff0 = pd.DataFrame(et_clf0.predict_proba(x_test)[:,1])    #NormalData: 1 - RestData: 0\n",
    "et_clff1 = pd.DataFrame(et_clf1.predict_proba(x_test)[:,1])    #HardoverFault: 1 - RestData: 0\n",
    "et_clff2 = pd.DataFrame(et_clf2.predict_proba(x_test)[:,1])    #DriftFault: 1 - RestData: 0\n",
    "et_clff3 = pd.DataFrame(et_clf3.predict_proba(x_test)[:,1])    #SpikeFault: 1 - RestData: 0\n",
    "et_clff4 = pd.DataFrame(et_clf4.predict_proba(x_test)[:,1])    #ErraticFault: 1 - RestData: 0\n",
    "et_clff5 = pd.DataFrame(et_clf5.predict_proba(x_test)[:,1])    #Data-lossFault: 1 - RestData: 0\n",
    "et_clff6 = pd.DataFrame(et_clf6.predict_proba(x_test)[:,1])    #RandomFault: 1 - RestData: 0\n",
    "\n",
    "et_df = pd.concat([et_clff0, et_clff1, et_clff2, et_clff3, et_clff4, et_clff5, et_clff6], axis=1)\n",
    "et_df.columns = ['0','1','2','3','4','5','6']\n",
    "et_df['Predicted'] = et_df[['0','1','2','3','4','5','6']].idxmax(axis=1)\n",
    "et_df['Original'] = testingData['Label']\n",
    "et_df.head()                                                    #to see by rows [:30]\n",
    "\n",
    "#et_df.to_excel(r'C:\\Users\\MCSL-user\\Videos\\et_results.xlsx')"
   ]
  },
  {
   "cell_type": "code",
   "execution_count": 8,
   "metadata": {},
   "outputs": [
    {
     "name": "stdout",
     "output_type": "stream",
     "text": [
      "[[200   0   0   0   0   0   0]\n",
      " [  7 193   0   0   0   0   0]\n",
      " [  0   0 200   0   0   0   0]\n",
      " [ 48   0   0 152   0   0   0]\n",
      " [  0   0   0   0 200   0   0]\n",
      " [  0   0   0   0   0 200   0]\n",
      " [  4   0   0   0   0   0 196]]\n",
      "              precision    recall  f1-score   support\n",
      "\n",
      "           0       0.77      1.00      0.87       200\n",
      "           1       1.00      0.96      0.98       200\n",
      "           2       1.00      1.00      1.00       200\n",
      "           3       1.00      0.76      0.86       200\n",
      "           4       1.00      1.00      1.00       200\n",
      "           5       1.00      1.00      1.00       200\n",
      "           6       1.00      0.98      0.99       200\n",
      "\n",
      "    accuracy                           0.96      1400\n",
      "   macro avg       0.97      0.96      0.96      1400\n",
      "weighted avg       0.97      0.96      0.96      1400\n",
      "\n"
     ]
    }
   ],
   "source": [
    "# Extremely Randomized Trees Results\n",
    "\n",
    "y_true_et = et_df['Original'].astype('int64')\n",
    "y_pred_et = et_df['Predicted'].astype('int64')\n",
    "\n",
    "print(confusion_matrix(y_true_et, y_pred_et))\n",
    "print(classification_report(y_true_et, y_pred_et))"
   ]
  },
  {
   "cell_type": "code",
   "execution_count": 9,
   "metadata": {},
   "outputs": [],
   "source": [
    "# SVM"
   ]
  },
  {
   "cell_type": "code",
   "execution_count": 18,
   "metadata": {},
   "outputs": [
    {
     "data": {
      "text/plain": [
       "SVC(C=1.0, cache_size=200, class_weight=None, coef0=0.0,\n",
       "    decision_function_shape='ovr', degree=3, gamma='auto_deprecated',\n",
       "    kernel='linear', max_iter=-1, probability=True, random_state=None,\n",
       "    shrinking=True, tol=0.001, verbose=False)"
      ]
     },
     "execution_count": 18,
     "metadata": {},
     "output_type": "execute_result"
    }
   ],
   "source": [
    "from sklearn.svm import SVC\n",
    "\n",
    "svm_clf0 = SVC(kernel='linear',probability=True)\n",
    "svm_clf1 = SVC(kernel='linear', probability=True)\n",
    "svm_clf2 = SVC(kernel='linear', probability=True)\n",
    "svm_clf3 = SVC(kernel='linear', probability=True)\n",
    "svm_clf4 = SVC(kernel='linear', probability=True)\n",
    "svm_clf5 = SVC(kernel='linear', probability=True)\n",
    "svm_clf6 = SVC(kernel='linear', probability=True)\n",
    "\n",
    "svm_clf0.fit(x_train0, y_train0.values.ravel())\n",
    "svm_clf1.fit(x_train1, y_train1.values.ravel())\n",
    "svm_clf2.fit(x_train2, y_train2.values.ravel())\n",
    "svm_clf3.fit(x_train3, y_train3.values.ravel())\n",
    "svm_clf4.fit(x_train4, y_train4.values.ravel())\n",
    "svm_clf5.fit(x_train5, y_train5.values.ravel())\n",
    "svm_clf6.fit(x_train6, y_train6.values.ravel())"
   ]
  },
  {
   "cell_type": "code",
   "execution_count": 19,
   "metadata": {},
   "outputs": [
    {
     "data": {
      "text/html": [
       "<div>\n",
       "<style scoped>\n",
       "    .dataframe tbody tr th:only-of-type {\n",
       "        vertical-align: middle;\n",
       "    }\n",
       "\n",
       "    .dataframe tbody tr th {\n",
       "        vertical-align: top;\n",
       "    }\n",
       "\n",
       "    .dataframe thead th {\n",
       "        text-align: right;\n",
       "    }\n",
       "</style>\n",
       "<table border=\"1\" class=\"dataframe\">\n",
       "  <thead>\n",
       "    <tr style=\"text-align: right;\">\n",
       "      <th></th>\n",
       "      <th>0</th>\n",
       "      <th>1</th>\n",
       "      <th>2</th>\n",
       "      <th>3</th>\n",
       "      <th>4</th>\n",
       "      <th>5</th>\n",
       "      <th>6</th>\n",
       "      <th>Predicted</th>\n",
       "      <th>Original</th>\n",
       "    </tr>\n",
       "  </thead>\n",
       "  <tbody>\n",
       "    <tr>\n",
       "      <th>0</th>\n",
       "      <td>0.160393</td>\n",
       "      <td>0.072985</td>\n",
       "      <td>0.000057</td>\n",
       "      <td>1.000000e-07</td>\n",
       "      <td>0.000690</td>\n",
       "      <td>0.000643</td>\n",
       "      <td>0.000305</td>\n",
       "      <td>0</td>\n",
       "      <td>0</td>\n",
       "    </tr>\n",
       "    <tr>\n",
       "      <th>1</th>\n",
       "      <td>0.131035</td>\n",
       "      <td>0.060280</td>\n",
       "      <td>0.000057</td>\n",
       "      <td>1.000000e-07</td>\n",
       "      <td>0.000614</td>\n",
       "      <td>0.000671</td>\n",
       "      <td>0.000293</td>\n",
       "      <td>0</td>\n",
       "      <td>0</td>\n",
       "    </tr>\n",
       "    <tr>\n",
       "      <th>2</th>\n",
       "      <td>0.143736</td>\n",
       "      <td>0.052212</td>\n",
       "      <td>0.000063</td>\n",
       "      <td>1.000000e-07</td>\n",
       "      <td>0.000517</td>\n",
       "      <td>0.000691</td>\n",
       "      <td>0.000331</td>\n",
       "      <td>0</td>\n",
       "      <td>0</td>\n",
       "    </tr>\n",
       "    <tr>\n",
       "      <th>3</th>\n",
       "      <td>0.206716</td>\n",
       "      <td>0.051107</td>\n",
       "      <td>0.000042</td>\n",
       "      <td>1.000000e-07</td>\n",
       "      <td>0.000782</td>\n",
       "      <td>0.000699</td>\n",
       "      <td>0.000242</td>\n",
       "      <td>0</td>\n",
       "      <td>0</td>\n",
       "    </tr>\n",
       "    <tr>\n",
       "      <th>4</th>\n",
       "      <td>0.158447</td>\n",
       "      <td>0.043279</td>\n",
       "      <td>0.000051</td>\n",
       "      <td>1.000000e-07</td>\n",
       "      <td>0.000644</td>\n",
       "      <td>0.000717</td>\n",
       "      <td>0.000298</td>\n",
       "      <td>0</td>\n",
       "      <td>0</td>\n",
       "    </tr>\n",
       "  </tbody>\n",
       "</table>\n",
       "</div>"
      ],
      "text/plain": [
       "          0         1         2             3         4         5         6  \\\n",
       "0  0.160393  0.072985  0.000057  1.000000e-07  0.000690  0.000643  0.000305   \n",
       "1  0.131035  0.060280  0.000057  1.000000e-07  0.000614  0.000671  0.000293   \n",
       "2  0.143736  0.052212  0.000063  1.000000e-07  0.000517  0.000691  0.000331   \n",
       "3  0.206716  0.051107  0.000042  1.000000e-07  0.000782  0.000699  0.000242   \n",
       "4  0.158447  0.043279  0.000051  1.000000e-07  0.000644  0.000717  0.000298   \n",
       "\n",
       "  Predicted  Original  \n",
       "0         0         0  \n",
       "1         0         0  \n",
       "2         0         0  \n",
       "3         0         0  \n",
       "4         0         0  "
      ]
     },
     "execution_count": 19,
     "metadata": {},
     "output_type": "execute_result"
    }
   ],
   "source": [
    "# Support Vector Machine Classifier\n",
    "\n",
    "svm_clff0 = pd.DataFrame(svm_clf0.predict_proba(x_test)[:,1])    #NormalData: 1 - RestData: 0\n",
    "svm_clff1 = pd.DataFrame(svm_clf1.predict_proba(x_test)[:,1])    #HardoverFault: 1 - RestData: 0\n",
    "svm_clff2 = pd.DataFrame(svm_clf2.predict_proba(x_test)[:,1])    #DriftFault: 1 - RestData: 0\n",
    "svm_clff3 = pd.DataFrame(svm_clf3.predict_proba(x_test)[:,1])    #SpikeFault: 1 - RestData: 0\n",
    "svm_clff4 = pd.DataFrame(svm_clf4.predict_proba(x_test)[:,1])    #ErraticFault: 1 - RestData: 0\n",
    "svm_clff5 = pd.DataFrame(svm_clf5.predict_proba(x_test)[:,1])    #Data-lossFault: 1 - RestData: 0\n",
    "svm_clff6 = pd.DataFrame(svm_clf6.predict_proba(x_test)[:,1])    #RandomFault: 1 - RestData: 0\n",
    "\n",
    "svm_df = pd.concat([svm_clff0, svm_clff1, svm_clff2, svm_clff3, svm_clff4, svm_clff5, svm_clff6], axis=1)\n",
    "svm_df.columns = ['0','1','2','3','4','5','6']\n",
    "svm_df['Predicted'] = svm_df[['0','1','2','3','4','5','6']].idxmax(axis=1)\n",
    "svm_df['Original'] = testingData['Label']\n",
    "svm_df.head()\n",
    "\n",
    "#svm_df.to_excel(r'C:\\Users\\MCSL-user\\Videos\\svm_results.xlsx')"
   ]
  },
  {
   "cell_type": "code",
   "execution_count": 20,
   "metadata": {},
   "outputs": [
    {
     "name": "stdout",
     "output_type": "stream",
     "text": [
      "[[153  47   0   0   0   0   0]\n",
      " [134  66   0   0   0   0   0]\n",
      " [  0   0 200   0   0   0   0]\n",
      " [  0   0   0 200   0   0   0]\n",
      " [  0   0   0   0 200   0   0]\n",
      " [  0   0   0   0   0 200   0]\n",
      " [  0   0   0   0   0   0 200]]\n",
      "              precision    recall  f1-score   support\n",
      "\n",
      "           0       0.53      0.77      0.63       200\n",
      "           1       0.58      0.33      0.42       200\n",
      "           2       1.00      1.00      1.00       200\n",
      "           3       1.00      1.00      1.00       200\n",
      "           4       1.00      1.00      1.00       200\n",
      "           5       1.00      1.00      1.00       200\n",
      "           6       1.00      1.00      1.00       200\n",
      "\n",
      "    accuracy                           0.87      1400\n",
      "   macro avg       0.87      0.87      0.86      1400\n",
      "weighted avg       0.87      0.87      0.86      1400\n",
      "\n"
     ]
    }
   ],
   "source": [
    "# SVM Results\n",
    "\n",
    "y_true_svm = svm_df['Original'].astype('int64')\n",
    "y_pred_svm = svm_df['Predicted'].astype('int64')\n",
    "\n",
    "print(confusion_matrix(y_true_svm, y_pred_svm))\n",
    "print(classification_report(y_true_svm, y_pred_svm))"
   ]
  },
  {
   "cell_type": "code",
   "execution_count": 13,
   "metadata": {},
   "outputs": [
    {
     "data": {
      "text/plain": [
       "Text(69.0, 0.5, 'Truth')"
      ]
     },
     "execution_count": 13,
     "metadata": {},
     "output_type": "execute_result"
    },
    {
     "data": {
      "image/png": "[encoded data removed]",
      "text/plain": [
       "<Figure size 720x504 with 2 Axes>"
      ]
     },
     "metadata": {
      "needs_background": "light"
     },
     "output_type": "display_data"
    }
   ],
   "source": [
    "cm = (confusion_matrix(y_true_et, y_pred_et))\n",
    "\n",
    "plt.figure(figsize=(10,7))\n",
    "sn.heatmap(cm, annot=True)\n",
    "plt.xlabel('Predicted')\n",
    "plt.ylabel('Truth')"
   ]
  },
  {
   "cell_type": "code",
   "execution_count": 14,
   "metadata": {},
   "outputs": [
    {
     "data": {
      "text/plain": [
       "Text(69.0, 0.5, 'Truth')"
      ]
     },
     "execution_count": 14,
     "metadata": {},
     "output_type": "execute_result"
    },
    {
     "data": {
      "image/png": "[encoded data removed]",
      "text/plain": [
       "<Figure size 720x504 with 2 Axes>"
      ]
     },
     "metadata": {
      "needs_background": "light"
     },
     "output_type": "display_data"
    }
   ],
   "source": [
    "cm = (confusion_matrix(y_true_svm, y_pred_svm))\n",
    "\n",
    "plt.figure(figsize=(10,7))\n",
    "sn.heatmap(cm, annot=True)\n",
    "plt.xlabel('Predicted')\n",
    "plt.ylabel('Truth')"
   ]
  },
  {
   "cell_type": "code",
   "execution_count": null,
   "metadata": {},
   "outputs": [],
   "source": []
  }
 ],
 "metadata": {
  "kernelspec": {
   "display_name": "Python 3",
   "language": "python",
   "name": "python3"
  },
  "language_info": {
   "codemirror_mode": {
    "name": "ipython",
    "version": 3
   },
   "file_extension": ".py",
   "mimetype": "text/x-python",
   "name": "python",
   "nbconvert_exporter": "python",
   "pygments_lexer": "ipython3",
   "version": "3.7.1"
  }
 },
 "nbformat": 4,
 "nbformat_minor": 2
}
